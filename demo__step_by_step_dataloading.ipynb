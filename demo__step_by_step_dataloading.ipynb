{
 "cells": [
  {
   "cell_type": "code",
   "execution_count": 3,
   "id": "99b9b2cf-0c2d-44e3-8241-61e419b3ee7a",
   "metadata": {},
   "outputs": [],
   "source": [
    "import scipy.io as sio\n",
    "import numpy as np\n",
    "import yaml\n",
    "\n",
    "with open('./util/config__drama_data.yaml', 'r') as f_yml:\n",
    "    config = yaml.safe_load(f_yml)\n",
    "\n",
    "from util import util_dataload as udl\n",
    "from util import util_ridge as uridge\n",
    "\n",
    "%matplotlib inline\n",
    "import matplotlib.pyplot as plt"
   ]
  },
  {
   "cell_type": "code",
   "execution_count": null,
   "id": "0485c850-1cb7-4510-82af-c9ea5965852b",
   "metadata": {},
   "outputs": [],
   "source": []
  },
  {
   "cell_type": "markdown",
   "id": "4e4c61b1",
   "metadata": {},
   "source": [
    "# (Demo) Step-by-step data loading and visualization\n",
    "\n",
    "## Param: Setting parameters\n",
    "\n",
    "subject_name : S01-S06<br>\n",
    "featname, extension :  Setting featurename and the extension(e.g. '.pkl').<br>\n",
    "movietitle : Selecting a single movie title from the above list. (e.g. 'heroes')<br>\n",
    "runname : Setting run index (e.g. 'run-01')\n",
    "\n",
    "#### Available movie titles and run indices\n",
    "- bigbangtheory : run-01 ~ run-04\n",
    "- breakingbad : run-01 ~ run-05\n",
    "- crown : run-01 ~ run-05\n",
    "- dreamgirls : run-01 ~ run-09\n",
    "- gis : run-01 ~ run-04\n",
    "- glee : run-01 ~ run-04\n",
    "- heroes : run-01 ~ run-05\n",
    "- mentalist : run-01 ~ run-04\n",
    "- suits : run-01 ~ run-03"
   ]
  },
  {
   "cell_type": "code",
   "execution_count": 26,
   "id": "cc0c4d95-6e25-4aba-9fa4-cef660d0c653",
   "metadata": {},
   "outputs": [],
   "source": [
    "subject_name = 'S02'\n",
    "movietitle = 'dreamgirls'\n",
    "runname = 'run-08'\n",
    "\n",
    "# option\n",
    "featname = '[YOUR_FEAT]'\n",
    "extension = '.pkl' # example"
   ]
  },
  {
   "cell_type": "markdown",
   "id": "a26f0e92-5661-4a85-8df7-2b333185e8be",
   "metadata": {},
   "source": [
    "## Main: Data loading and visualization"
   ]
  },
  {
   "cell_type": "code",
   "execution_count": 27,
   "id": "c386b759-b487-4f06-be62-d6c9255dee13",
   "metadata": {},
   "outputs": [
    {
     "name": "stdout",
     "output_type": "stream",
     "text": [
      "(bold)/mount/nfs7/user/naoko-ko/pj_AIS_drama__openNeuro_data//derivatives/preprocessed_data/sub-S02/sub-S02_task-dreamgirlsSess2_run-03.mat\n",
      "(feat)/mount/nfs7/user/naoko-ko/pj_AIS_drama__openNeuro_data//derivatives/feature/dreamgirlsSess2_run-03_[YOUR_FEAT].pkl\n"
     ]
    },
    {
     "data": {
      "image/png": "[encoded data removed]",
      "text/plain": [
       "<Figure size 640x480 with 1 Axes>"
      ]
     },
     "metadata": {},
     "output_type": "display_data"
    }
   ],
   "source": [
    "\n",
    "subjectID = udl.get_subjectID_from_subjectName(config, subject_name)\n",
    "movID, runID = udl.get_movID_runID(config, movietitle, runname)\n",
    "\n",
    "load_items = udl.set_load_items(config, subjectID=subjectID, movID=movID)\n",
    "datasize = load_items['datasize']\n",
    "\n",
    "# Get voxel indices in the cortex and sub-cortex.\n",
    "mask = udl.load_mask_data(load_items['mask_path'])\n",
    "\n",
    "# Get BOLD resp.\n",
    "path_bold = load_items['list_path_resp_base'][runID].format(config['dir']['derivative'])\n",
    "bold = udl.load_bold_data(path_bold)\n",
    "print('(bold){:s}'.format(path_bold))\n",
    "\n",
    "# Get the corresponding feature\n",
    "path_feat = load_items['list_path_feat_base'][runID].format(config['dir']['derivative'], featname).replace('.mat', extension)\n",
    "# load [YOUR_FEAT] if needed ...\n",
    "print('(feat){:s}'.format(path_feat))\n",
    "\n",
    "# Data analysis using masked data (if needed)\n",
    "bold_masked = bold[:, mask] \n",
    "# {... data analysis ...}\n",
    "\n",
    "# Prepare toy stats as the results of the analysis\n",
    "toy_stats_masked = np.ones(bold_masked.shape[1])\n",
    "\n",
    "# Reshape toy_stats to the original bold space\n",
    "toy_stats = np.nan* np.ones(bold.shape[1]) # base\n",
    "toy_stats[mask] = toy_stats_masked # 1D\n",
    "toy_stats_3d = toy_stats.reshape(datasize[2], datasize[1], datasize[0])\n",
    "\n",
    "# Show toy_stats (z=30)\n",
    "plt.figure()\n",
    "plt.imshow(toy_stats_3d[30,:,:])\n",
    "plt.show()"
   ]
  },
  {
   "cell_type": "code",
   "execution_count": null,
   "id": "ad8b79db-bcc9-4381-a321-b4a9626481fd",
   "metadata": {},
   "outputs": [],
   "source": []
  },
  {
   "cell_type": "code",
   "execution_count": null,
   "id": "6fbc408c",
   "metadata": {},
   "outputs": [],
   "source": []
  },
  {
   "cell_type": "code",
   "execution_count": null,
   "id": "15a60142-0176-4e4f-a22b-d2f5df3b5ec1",
   "metadata": {},
   "outputs": [],
   "source": []
  }
 ],
 "metadata": {
  "kernelspec": {
   "display_name": "downgrade",
   "language": "python",
   "name": "downgrade"
  },
  "language_info": {
   "codemirror_mode": {
    "name": "ipython",
    "version": 3
   },
   "file_extension": ".py",
   "mimetype": "text/x-python",
   "name": "python",
   "nbconvert_exporter": "python",
   "pygments_lexer": "ipython3",
   "version": "3.10.13"
  }
 },
 "nbformat": 4,
 "nbformat_minor": 5
}
